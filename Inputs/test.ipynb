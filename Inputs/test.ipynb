{
 "cells": [
  {
   "cell_type": "code",
   "execution_count": 3,
   "id": "ac4a3946",
   "metadata": {},
   "outputs": [],
   "source": [
    "import numpy as np\n",
    "import pandas as pd\n",
    "from itertools import combinations\n",
    "from sklearn.preprocessing import PolynomialFeatures\n",
    "import itertools\n",
    "import random\n",
    "\n",
    "max_min_scalar = lambda x: (x-np.min(x))/(np.max(x)-np.min(x))\n",
    "\n",
    "# 读入样本信息\n",
    "all_colinfo = pd.read_csv(\"GSE143155_group.csv\",index_col = 0)\n",
    "\n",
    "# 加载系数\n",
    "coefs = pd.read_csv(\"./set_coefs.csv\",index_col = 0)\n",
    "resx = coefs.iloc[:,0].values\n",
    "# 读入数据\n",
    "geneExpr = pd.read_csv(\"GSE143155_expr.csv\",index_col = 0)\n",
    "geneExpr = geneExpr.T\n",
    "geneExpr = geneExpr*1.0 # DataFrame\n",
    "\n",
    "all_colinfo.index = geneExpr.index   # 这行很重要，要不然总报错\n",
    "geneExpr = geneExpr.apply(max_min_scalar,axis = 0) \n",
    "geneExpr = geneExpr.fillna(0)\n",
    "\n",
    "moduleGene = pd.read_csv(\"module_genes_input.csv\",index_col = 0)\n",
    "data_gene_all = set(geneExpr.columns)\n",
    "\n",
    "OrGene = moduleGene.iloc[0,:]\n",
    "OrGene_ok = []\n",
    "for i in range(len(OrGene)):\n",
    "    if OrGene[i] in data_gene_all:\n",
    "        OrGene_ok.append(OrGene[i])            \n",
    "Num_Or = len(OrGene_ok)\n",
    "RsGene = moduleGene.iloc[1,:]\n",
    "RsGene_ok = []\n",
    "for i in range(len(RsGene)):\n",
    "    if RsGene[i] in data_gene_all:\n",
    "        RsGene_ok.append(RsGene[i])\n",
    "            \n",
    "Num_Rs = len(RsGene_ok)\n",
    "OsGene = moduleGene.iloc[2,:]\n",
    "OsGene_ok = []\n",
    "for i in range(len(OsGene)):\n",
    "    if OsGene[i] in data_gene_all:\n",
    "        OsGene_ok.append(OsGene[i])\n",
    "\n",
    "            \n",
    "Num_Os = len(OsGene_ok)\n",
    "\n",
    "Expr_Or = geneExpr[OrGene_ok]\n",
    "Expr_Rs = geneExpr[RsGene_ok]\n",
    "Expr_Os = geneExpr[OsGene_ok]\n",
    "\n",
    "# 计算交互项\n",
    "poly = PolynomialFeatures(interaction_only=True,include_bias = False) #定义了一个转化器\n",
    "\n",
    "temp = pd.DataFrame(poly.fit_transform(Expr_Or))\n",
    "temp.index = Expr_Or.index\n",
    "original_names = list(Expr_Or.columns)\n",
    "inter_names = ['_'.join(x) for x in list(itertools.combinations(original_names,2))]\n",
    "all_names = original_names+inter_names\n",
    "temp.columns = all_names\n",
    "Expr_Or0 = temp\n",
    "\n",
    "temp = pd.DataFrame(poly.fit_transform(Expr_Rs))\n",
    "temp.index = Expr_Rs.index\n",
    "original_names = list(Expr_Rs.columns)\n",
    "inter_names = ['_'.join(x) for x in list(itertools.combinations(original_names,2))]\n",
    "all_names = original_names+inter_names\n",
    "temp.columns = all_names\n",
    "Expr_Rs0 = temp\n",
    "\n",
    "temp = pd.DataFrame(poly.fit_transform(Expr_Os))\n",
    "temp.index = Expr_Os.index\n",
    "original_names = list(Expr_Os.columns)\n",
    "inter_names = ['_'.join(x) for x in list(itertools.combinations(original_names,2))]\n",
    "all_names = original_names+inter_names\n",
    "temp.columns = all_names\n",
    "Expr_Os0 = temp\n",
    "\n",
    "Expr_Or0 = Expr_Or0.apply(max_min_scalar,axis = 0)\n",
    "Expr_Rs0 = Expr_Rs0.apply(max_min_scalar,axis = 0)\n",
    "Expr_Os0 = Expr_Os0.apply(max_min_scalar,axis = 0)\n",
    "len_Or = Expr_Or0.shape[1]\n",
    "len_Rs = Expr_Rs0.shape[1]\n",
    "len_Os = Expr_Os0.shape[1]\n",
    "# 到目前位置 Expr_Or0，Expr_Rs0，Expr_Os0为三个输入矩阵，Num_Or，Num_Rs，Num_Os为三个基因个数，行数为BATCH_SIZE\n",
    "\n",
    "\n",
    "\n",
    "values_Os = np.dot(Expr_Os0, resx[2 + Expr_Or0.shape[1] + Expr_Rs0.shape[1]:2 + Expr_Or0.shape[1] + Expr_Rs0.shape[1] +\n",
    "                                                                       Expr_Os0.shape[1]])\n",
    "output_results = values_Os.reshape(Expr_Or0.shape[0], 1)\n",
    "output_results = pd.DataFrame(output_results)\n",
    "output_results.columns = [\"OxiStress\"]\n",
    "output_results.index = all_colinfo.index\n",
    "output_results = pd.concat([output_results, all_colinfo], axis=1)\n",
    "\n",
    "output_results.to_csv(\"./results.csv\")"
   ]
  },
  {
   "cell_type": "code",
   "execution_count": 4,
   "id": "0336c7dc",
   "metadata": {},
   "outputs": [
    {
     "data": {
      "image/png": "[encoded data removed]",
      "text/plain": [
       "<Figure size 432x288 with 1 Axes>"
      ]
     },
     "metadata": {
      "needs_background": "light"
     },
     "output_type": "display_data"
    }
   ],
   "source": [
    "import seaborn as sns\n",
    "ax = sns.boxplot(x = \"Group\",y = \"OxiStress\",hue = \"Group\", data=output_results, linewidth=1)"
   ]
  }
 ],
 "metadata": {
  "kernelspec": {
   "display_name": "Python [conda env:pytorch1.10] *",
   "language": "python",
   "name": "conda-env-pytorch1.10-py"
  },
  "language_info": {
   "codemirror_mode": {
    "name": "ipython",
    "version": 3
   },
   "file_extension": ".py",
   "mimetype": "text/x-python",
   "name": "python",
   "nbconvert_exporter": "python",
   "pygments_lexer": "ipython3",
   "version": "3.6.13"
  }
 },
 "nbformat": 4,
 "nbformat_minor": 5
}
